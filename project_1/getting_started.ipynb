{
 "cells": [
  {
   "cell_type": "markdown",
   "metadata": {},
   "source": [
    "# Task 1\n",
    "\n",
    "---\n",
    "\n",
    "## Web scraping and analysis\n",
    "\n",
    "This Jupyter notebook includes some code to get you started with web scraping. We will use a package called `BeautifulSoup` to collect the data from the web. Once you've collected your data and saved it into a local `.csv` file you should start with your analysis.\n",
    "\n",
    "### Scraping data from Skytrax\n",
    "\n",
    "If you visit [https://www.airlinequality.com] you can see that there is a lot of data there. For this task, we are only interested in reviews related to British Airways and the Airline itself.\n",
    "\n",
    "If you navigate to this link: [https://www.airlinequality.com/airline-reviews/british-airways] you will see this data. Now, we can use `Python` and `BeautifulSoup` to collect all the links to the reviews and then to collect the text data on each of the individual review links."
   ]
  },
  {
   "cell_type": "code",
   "execution_count": 1,
   "metadata": {},
   "outputs": [],
   "source": [
    "import requests\n",
    "from bs4 import BeautifulSoup\n",
    "import pandas as pd"
   ]
  },
  {
   "cell_type": "code",
   "execution_count": 2,
   "metadata": {},
   "outputs": [
    {
     "name": "stdout",
     "output_type": "stream",
     "text": [
      "Scraping page 1\n",
      "   ---> 100 total reviews\n",
      "Scraping page 2\n",
      "   ---> 200 total reviews\n",
      "Scraping page 3\n",
      "   ---> 300 total reviews\n",
      "Scraping page 4\n",
      "   ---> 400 total reviews\n",
      "Scraping page 5\n",
      "   ---> 500 total reviews\n",
      "Scraping page 6\n",
      "   ---> 600 total reviews\n",
      "Scraping page 7\n",
      "   ---> 700 total reviews\n",
      "Scraping page 8\n",
      "   ---> 800 total reviews\n",
      "Scraping page 9\n",
      "   ---> 900 total reviews\n",
      "Scraping page 10\n",
      "   ---> 1000 total reviews\n"
     ]
    }
   ],
   "source": [
    "base_url = \"https://www.airlinequality.com/airline-reviews/british-airways\"\n",
    "pages = 10\n",
    "page_size = 100\n",
    "\n",
    "reviews = []\n",
    "\n",
    "# for i in range(1, pages + 1):\n",
    "for i in range(1, pages + 1):\n",
    "\n",
    "    print(f\"Scraping page {i}\")\n",
    "\n",
    "    # Create URL to collect links from paginated data\n",
    "    url = f\"{base_url}/page/{i}/?sortby=post_date%3ADesc&pagesize={page_size}\"\n",
    "\n",
    "    # Collect HTML data from this page\n",
    "    response = requests.get(url)\n",
    "\n",
    "    # Parse content\n",
    "    content = response.content\n",
    "    parsed_content = BeautifulSoup(content, 'html.parser')\n",
    "    for para in parsed_content.find_all(\"div\", {\"class\": \"text_content\"}):\n",
    "        reviews.append(para.get_text())\n",
    "    \n",
    "    print(f\"   ---> {len(reviews)} total reviews\")"
   ]
  },
  {
   "cell_type": "code",
   "execution_count": 3,
   "metadata": {},
   "outputs": [
    {
     "data": {
      "text/html": [
       "<div>\n",
       "<style scoped>\n",
       "    .dataframe tbody tr th:only-of-type {\n",
       "        vertical-align: middle;\n",
       "    }\n",
       "\n",
       "    .dataframe tbody tr th {\n",
       "        vertical-align: top;\n",
       "    }\n",
       "\n",
       "    .dataframe thead th {\n",
       "        text-align: right;\n",
       "    }\n",
       "</style>\n",
       "<table border=\"1\" class=\"dataframe\">\n",
       "  <thead>\n",
       "    <tr style=\"text-align: right;\">\n",
       "      <th></th>\n",
       "      <th>reviews</th>\n",
       "    </tr>\n",
       "  </thead>\n",
       "  <tbody>\n",
       "    <tr>\n",
       "      <th>0</th>\n",
       "      <td>✅ Trip Verified |   I had visa issues, and hen...</td>\n",
       "    </tr>\n",
       "    <tr>\n",
       "      <th>1</th>\n",
       "      <td>✅ Trip Verified |   Singapore to Heathrow with...</td>\n",
       "    </tr>\n",
       "    <tr>\n",
       "      <th>2</th>\n",
       "      <td>✅ Trip Verified |   I recently travelled from ...</td>\n",
       "    </tr>\n",
       "    <tr>\n",
       "      <th>3</th>\n",
       "      <td>Not Verified |  I paid for seats 80 A and B on...</td>\n",
       "    </tr>\n",
       "    <tr>\n",
       "      <th>4</th>\n",
       "      <td>Not Verified | The flight wasn’t that bad, alt...</td>\n",
       "    </tr>\n",
       "  </tbody>\n",
       "</table>\n",
       "</div>"
      ],
      "text/plain": [
       "                                             reviews\n",
       "0  ✅ Trip Verified |   I had visa issues, and hen...\n",
       "1  ✅ Trip Verified |   Singapore to Heathrow with...\n",
       "2  ✅ Trip Verified |   I recently travelled from ...\n",
       "3  Not Verified |  I paid for seats 80 A and B on...\n",
       "4  Not Verified | The flight wasn’t that bad, alt..."
      ]
     },
     "execution_count": 3,
     "metadata": {},
     "output_type": "execute_result"
    }
   ],
   "source": [
    "df = pd.DataFrame()\n",
    "df[\"reviews\"] = reviews\n",
    "df.head()"
   ]
  },
  {
   "cell_type": "code",
   "execution_count": 4,
   "metadata": {},
   "outputs": [],
   "source": [
    "df.to_csv(\"data/BA_reviews.csv\")"
   ]
  },
  {
   "cell_type": "markdown",
   "metadata": {},
   "source": [
    "Congratulations! Now you have your dataset for this task! The loops above collected 1000 reviews by iterating through the paginated pages on the website. However, if you want to collect more data, try increasing the number of pages!\n",
    "\n",
    " The next thing that you should do is clean this data to remove any unnecessary text from each of the rows. For example, \"✅ Trip Verified\" can be removed from each row if it exists, as it's not relevant to what we want to investigate."
   ]
  },
  {
   "cell_type": "code",
   "execution_count": 5,
   "metadata": {},
   "outputs": [
    {
     "data": {
      "text/plain": [
       "(1000, 1)"
      ]
     },
     "execution_count": 5,
     "metadata": {},
     "output_type": "execute_result"
    }
   ],
   "source": [
    "df.shape"
   ]
  },
  {
   "cell_type": "code",
   "execution_count": 6,
   "metadata": {},
   "outputs": [
    {
     "data": {
      "text/plain": [
       "reviews\n",
       "✅ Trip Verified |   I had visa issues, and hence, was debarred from flying. The ground staff at Mumbai was excellent (a woman named Brinelle) was very helpful and understanding. I had to rebook my tickets, and while the original journey was consisting of 3 legs, BA forced me to rebook the entire ticket, because their system did not allow them to rebook just that one leg (even though there was a gap of 13 days between the two legs, not like they were connecting flights). The telephone operator was rude, took 45 minutes and kept saying she needed 3-4 more minutes to give me clarity. It was horrendous. The final price they offered me for rebooking 2 of the 3 legs was much more than the original fare for all 3 legs. She was torturous, BA was horrendous because the website does not allow you to do all this. A very poor experience, in all.                                                                                                                                                                                                                                                                                                                                                                                                                    1\n",
       "Not Verified |  Check-in very slow. No app check-in and could not check my vaccine QR code online. Check in staff friendly but too few of them. BA Silver card holder and no Stockholm lounge  to use. Boarding fine, but plane was worn out. Seats close together and row 30 even worse.  Crew really professional and happy it seemed. Arrival at Heathrow a total shambles. BA777 landed at 12.50, no gate so waited and waited for 25 minutes. Then BA jetty didn’t work. Then BA had no steps. Very slow to leave plane as only moderately mobile wheelchair passengers struggle down the steps. Everyone was very patient and supportive but it was terrible to watch. So BA skimping on lounge, plane condition and gate. Crew good, seats very uncomfortable.                                                                                                                                                                                                                                                                                                                                                                                                                                                                                                                            1\n",
       "✅ Trip Verified |  I had low expectations of business class BA on European routes but this flight was even worse. T5 is a mess with 90 minute queue to check bags with tons of people arriving late. Check in guy seemed clueless about Turkey needs for pcr etc. BA lounge is a joke so i went out and got sushi from a restaurant - there was mulled wine in crowded lounge but just bad all round. Boarding was chaos and we left an hour late. A320 was jammed full but business class there is little legroom and just the middle seat free, you might as well fly a low cost carrier for same seat. There is no inflight screen no overhead screen. Although the curtain was closed economy people used the forward bathroom with no crew sending them back. The only salvation was a pretty decent shepherds pie and red wine otherwise I would avoid flying BA. The next day I flew the same aircraft type to Bahrain on another carrier with proper business class seat in flight screen, headphones, good food and drinks, Arabic coffee, dates and gracious service. BA hang your head in shame.                                                                                                                                                                                      1\n",
       "✅ Trip Verified |  We've just used the new Club World for the first time and were delighted with the new configuration. The privacy afforded is so much better, in-flight entertainment and storage were brilliant. Unfortunately, we had the most lethargic crew ever who once the meal was served basically disappeared. The wines were warm, they even forgot to offer my wife a drink with lunch, and she also had a pair of used socks in her storage cabinet. Heathrow was a nightmare as often happens. Being 5 minutes early was rewarded with a 40-minute wait for a gate, then a 2.5 hour wait for our luggage, absolutely shocking in Covid times.                                                                                                                                                                                                                                                                                                                                                                                                                                                                                                                                                                                                                                    1\n",
       "✅ Trip Verified |  My flight yesterday 18/12/2021 was due to take off at 1215, soon after reaching the gate first passengers were called for pre-boarding, then gate staff said the aircraft has not been given permission to land at Aberdeen due to poor weather. Airport information kept telling passengers to go to gate for a further hour and a half before passengers learned the flight had been cancelled via the BA APP, we then had to join a line for the customer service desk, it took two hours to reach the desk in my case, on reaching the desk I was told I had automatically been booked on the following mornings flight and being offered overnight hotel. That did not meet my needs so I requested cancellation and to get my bags back, I was told to cancel my booking on the BA APP, they could not do it at the desk. I was then directed via a gate to collect my bags, this meant having to go via the UK border to reach a baggage belt, then I waited for my bags for 3 hours because they had automatically stored my bags for the following days flight. BA staff were rude and dismissive of customer complaints at length of time bags were taking to arrive, like it was our fault for cancelling the alternative flight they had offered the next day.    1\n",
       "                                                                                                                                                                                                                                                                                                                                                                                                                                                                                                                                                                                                                                                                                                                                                                                                                                                                                                                                                                                                                                                                                                                                                                                                                                                                                                ..\n",
       "✅ Trip Verified |  Words fail to describe this last awful flight - baby across the aisle crying for most of the flight and although horrible to go without any rest for the long flight LHR/SFO, it's understandable for a baby to cry nonstop - but the crew yakking loudly in the galley even after a polite notification that their conversation could be heard in the cabin - that made the flight unbearable for any rest or sleep (always difficult anyway westbound). The food was so bad that most  turned down whatever the nasty offering was on the 2nd service. What happened to the really nice tea and scones? I've said this before after suffering through the BA concept of customer service (i.e. don't do anything to help the passenger if it involves any extra work) - this time i swear i mean it - never again on BA please! The lounge was so packed even a single traveler had a hard time finding a seat - poor BA is on the skids downhill.                                                                                                                                                                                                                                                                                                                          1\n",
       "✅ Trip Verified |  Absolutely terrible experience. The app would not let me check in online and repeatedly asked for COVID documents, but then did not accept them even when provided. I was trying to fly back to the USA, where I am a citizen and the app caused repeated errors. I went to British Airways Customer Service to check in and was told that my seat was already given away to another passenger, even though I was there in plenty of time. This was also during an industrial action at Heathrow, meaning the number of flights were limited. I was delayed over 24 hours in returning to the USA, all because of their terrible app and then bad customer service that gives away seats even when the paid passenger is already there at the airport.                                                                                                                                                                                                                                                                                                                                                                                                                                                                                                                        1\n",
       "✅ Trip Verified | BA overbook every flight to maximise their income with no regard for the customer. It means you cannot check in online or at the kiosk in the airport and have to queue even with no luggage. Makes easyJet and Ryanair look like customer champions. The server in Itsu in the BA terminal says she stopped flying BA years ago due to the service being bad all the time. Most customers she serves have a complaint Staff don't care as poor service and unhappy customers is a routine occurrence.                                                                                                                                                                                                                                                                                                                                                                                                                                                                                                                                                                                                                                                                                                                                                                         1\n",
       "✅ Trip Verified |  \\r\\nThe flights were all on time, except Belfast from London which never is. The Staff were efficient. My issue is the App, I could not book seats to Tel Aviv though tried for a month as wanted to pay. So ended up in a middle seat even though a window seat was available on the flight. The seat was in front of the dividing barrier and was used as thoroughfare by the service team throughout the flight so I wasted my money on PE seat! You can get hold of BA customer service via the app either and they have just ignored all other communication so just won't use them again.                                                                                                                                                                                                                                                                                                                                                                                                                                                                                                                                                                                                                                                                               1\n",
       "✅ Trip Verified |  Hong Kong to London Heathrow, this is a long haul flight operated by Boeing 777-300ER. The seat especially the headrest is quite comfortable. The legroom is large but there is a little metal box under the seat. This negatively affects the legroom. The films provided are not that many but I can see the flight path through the personal television. They provide dinner and breakfast for me. It is quite abundant but not very delicious.                                                                                                                                                                                                                                                                                                                                                                                                                                                                                                                                                                                                                                                                                                                                                                                                                            1\n",
       "Name: count, Length: 1000, dtype: int64"
      ]
     },
     "execution_count": 6,
     "metadata": {},
     "output_type": "execute_result"
    }
   ],
   "source": [
    "df[\"reviews\"].value_counts()"
   ]
  },
  {
   "cell_type": "code",
   "execution_count": 7,
   "metadata": {},
   "outputs": [],
   "source": [
    "import nltk "
   ]
  },
  {
   "cell_type": "code",
   "execution_count": 8,
   "metadata": {},
   "outputs": [],
   "source": [
    "import re \n",
    "from nltk.corpus import stopwords\n",
    "from nltk.tokenize import word_tokenize \n",
    "from nltk.sentiment.vader import SentimentIntensityAnalyzer\n",
    "from sklearn.feature_extraction.text import CountVectorizer\n",
    "from sklearn.decomposition import LatentDirichletAllocation\n",
    "\n"
   ]
  },
  {
   "cell_type": "code",
   "execution_count": 10,
   "metadata": {},
   "outputs": [
    {
     "name": "stderr",
     "output_type": "stream",
     "text": [
      "[nltk_data] Downloading package vader_lexicon to\n",
      "[nltk_data]     C:\\Users\\LHCP\\AppData\\Roaming\\nltk_data...\n",
      "[nltk_data] Downloading package stopwords to\n",
      "[nltk_data]     C:\\Users\\LHCP\\AppData\\Roaming\\nltk_data...\n",
      "[nltk_data]   Package stopwords is already up-to-date!\n",
      "[nltk_data] Downloading package punkt to\n",
      "[nltk_data]     C:\\Users\\LHCP\\AppData\\Roaming\\nltk_data...\n",
      "[nltk_data]   Package punkt is already up-to-date!\n"
     ]
    },
    {
     "data": {
      "text/plain": [
       "True"
      ]
     },
     "execution_count": 10,
     "metadata": {},
     "output_type": "execute_result"
    }
   ],
   "source": [
    "nltk.download('vader_lexicon')\n",
    "nltk.download('stopwords')\n",
    "nltk.download('punkt')"
   ]
  },
  {
   "cell_type": "code",
   "execution_count": 11,
   "metadata": {},
   "outputs": [],
   "source": [
    "def clean_text(text):\n",
    "    text = re.sub(r'[^\\w\\s]','',text) #remove puntuation marks\n",
    "    text = text.lower() #convert to lowercase\n",
    "    text = re.sub(r'\\d+','',text) # remove numbers\n",
    "    text = re.sub(r'\\n',' ',text) # replace newlines with spaces\n",
    "    return text\n",
    "\n",
    "df['cleaned_text'] = df['reviews'].apply(clean_text)"
   ]
  },
  {
   "cell_type": "markdown",
   "metadata": {},
   "source": [
    "**Removing stopwords**"
   ]
  },
  {
   "cell_type": "code",
   "execution_count": 12,
   "metadata": {},
   "outputs": [],
   "source": [
    "stop_words = set(stopwords.words('english'))\n",
    "df['cleaned_text'] = df['cleaned_text'].apply(lambda x:''.join([word for word in x.split() if\n",
    "                                                                word not in stop_words\n",
    "                                                                ]))"
   ]
  },
  {
   "cell_type": "markdown",
   "metadata": {},
   "source": [
    "**Sentiment analysis**"
   ]
  },
  {
   "cell_type": "code",
   "execution_count": 14,
   "metadata": {},
   "outputs": [
    {
     "name": "stdout",
     "output_type": "stream",
     "text": [
      "sentiment\n",
      "neutral    1000\n",
      "Name: count, dtype: int64\n"
     ]
    }
   ],
   "source": [
    "sid = SentimentIntensityAnalyzer()\n",
    "def get_sentiment(text):\n",
    "    scores = sid.polarity_scores(text) # get sentiment score for text \n",
    "    # Classify as positive neutral or negative \n",
    "    return 'positive' if scores['compound'] > 0.05 else 'negative'if scores['compound'] < -0.05 else 'neutral'\n",
    "\n",
    "df['sentiment'] = df['cleaned_text'].apply(get_sentiment)\n",
    "print(df['sentiment'].value_counts())"
   ]
  }
 ],
 "metadata": {
  "kernelspec": {
   "display_name": "Python 3",
   "language": "python",
   "name": "python3"
  },
  "language_info": {
   "codemirror_mode": {
    "name": "ipython",
    "version": 3
   },
   "file_extension": ".py",
   "mimetype": "text/x-python",
   "name": "python",
   "nbconvert_exporter": "python",
   "pygments_lexer": "ipython3",
   "version": "3.12.3"
  },
  "orig_nbformat": 4
 },
 "nbformat": 4,
 "nbformat_minor": 2
}
